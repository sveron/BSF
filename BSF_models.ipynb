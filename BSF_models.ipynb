{
 "cells": [
  {
   "cell_type": "code",
   "execution_count": null,
   "id": "db211ce0-0290-4e0e-a1b6-f4a123521213",
   "metadata": {},
   "outputs": [],
   "source": [
    "import numpy as np\n",
    "import pandas as pd\n",
    "from sklearn.manifold import TSNE\n",
    "import matplotlib.pyplot as plt\n",
    "import seaborn as sns\n",
    "import xgboost as xgb\n",
    "import numpy as np\n",
    "from sklearn.model_selection import KFold\n",
    "from sklearn.model_selection import train_test_split\n",
    "from sklearn.multioutput import MultiOutputRegressor\n",
    "from sklearn.metrics import mean_squared_error\n",
    "from sklearn.metrics import mean_absolute_error\n",
    "from sklearn.linear_model import LinearRegression\n",
    "from sklearn.preprocessing import MinMaxScaler\n",
    "from sklearn.model_selection import GroupKFold\n",
    "from sklearn.ensemble import RandomForestRegressor\n",
    "\n",
    "\n",
    "from sklearn.pipeline import Pipeline\n",
    "from sklearn.compose import ColumnTransformer"
   ]
  },
  {
   "cell_type": "markdown",
   "id": "06679587-016a-4d7d-82d2-353ddc0d7001",
   "metadata": {},
   "source": [
    "### Data preprocessing"
   ]
  },
  {
   "cell_type": "code",
   "execution_count": null,
   "id": "bfecdcf3-5156-49f9-b930-c407bae10355",
   "metadata": {},
   "outputs": [],
   "source": [
    "data = pd.read_csv('combined_db.csv', skiprows=[0,2])"
   ]
  },
  {
   "cell_type": "code",
   "execution_count": null,
   "id": "8be5c6b4-8725-47cf-8ebb-595a979bd385",
   "metadata": {},
   "outputs": [],
   "source": [
    "data.shape"
   ]
  },
  {
   "cell_type": "code",
   "execution_count": null,
   "id": "55aa4be7-e377-4d8b-9a13-97045a8f2e5c",
   "metadata": {},
   "outputs": [],
   "source": [
    "data.head()"
   ]
  },
  {
   "cell_type": "code",
   "execution_count": null,
   "id": "74afbc78-9479-4ea6-b8b6-6b8c4f0e1774",
   "metadata": {},
   "outputs": [],
   "source": [
    "data.describe()"
   ]
  },
  {
   "cell_type": "code",
   "execution_count": null,
   "id": "f9248c90-e872-47f5-b22e-0ab625ce1a16",
   "metadata": {},
   "outputs": [],
   "source": [
    "data[data['bsf stage (nursery or fattening)']=='fattening']['Diet number \\n(from the file with the diets n_ for nursery and f_ for fattening)'].nunique()"
   ]
  },
  {
   "cell_type": "code",
   "execution_count": null,
   "id": "53cd8850-38f9-4b70-8a13-f006e32d1300",
   "metadata": {},
   "outputs": [],
   "source": [
    "without_na = data.dropna(subset=[' total larval  biomass, gr','Average larval  mass, mg','Fat, %', 'Recalculated protein, %'])\n",
    "without_na[without_na['bsf stage (nursery or fattening)']=='fattening']['Diet number \\n(from the file with the diets n_ for nursery and f_ for fattening)'].nunique()"
   ]
  },
  {
   "cell_type": "code",
   "execution_count": null,
   "id": "93c6486e-719e-4157-a760-3e24b1ed29f9",
   "metadata": {},
   "outputs": [],
   "source": [
    "data[data['bsf stage (nursery or fattening)']=='nursery']['Diet number \\n(from the file with the diets n_ for nursery and f_ for fattening)'].nunique()"
   ]
  },
  {
   "cell_type": "code",
   "execution_count": null,
   "id": "b1f3627d-70d8-4b2f-8ccd-e02bdf5d143f",
   "metadata": {},
   "outputs": [],
   "source": [
    "data = data.dropna(subset=['Larvae density'])"
   ]
  },
  {
   "cell_type": "code",
   "execution_count": null,
   "id": "a90fedfc-00e2-47e2-b2c3-801533c144da",
   "metadata": {},
   "outputs": [],
   "source": [
    "data.loc[data['Larvae density'] == '12.5K', 'Larvae density'] = 12500"
   ]
  },
  {
   "cell_type": "code",
   "execution_count": null,
   "id": "f48c2591-a3ee-4ab5-826c-3bd747a923f6",
   "metadata": {},
   "outputs": [],
   "source": [
    "data.loc[data['Larvae density'] == '12,500', 'Larvae density'] = 12500"
   ]
  },
  {
   "cell_type": "code",
   "execution_count": null,
   "id": "b3029d2e-aa1d-4bc0-ab85-a405501fe104",
   "metadata": {},
   "outputs": [],
   "source": [
    "data.loc[data['Larvae density'] == '25,000', 'Larvae density'] = 25000"
   ]
  },
  {
   "cell_type": "code",
   "execution_count": null,
   "id": "aa0a2361-fd26-4f45-8b33-e714f235d356",
   "metadata": {},
   "outputs": [],
   "source": [
    "data['Larvae density'] = data['Larvae density'].astype('int')"
   ]
  },
  {
   "cell_type": "code",
   "execution_count": null,
   "id": "50d56c37-9082-46fc-a3a7-50325c4f1bfc",
   "metadata": {},
   "outputs": [],
   "source": [
    "data = data[data[' total larval  biomass, gr']!=\"N.A\"]\n",
    "data = data[data[' total larval  biomass, gr']!='#DIV/0!']\n",
    "data = data[data[' total larval  biomass, gr']!='#VALUE!']"
   ]
  },
  {
   "cell_type": "code",
   "execution_count": null,
   "id": "b7876388-ed34-4e33-979a-c64c47fbb61a",
   "metadata": {},
   "outputs": [],
   "source": [
    "data = data[data['Average larval  mass, mg']!='#VALUE!']"
   ]
  },
  {
   "cell_type": "code",
   "execution_count": null,
   "id": "1eea3f39-a397-4c93-9f88-b03353c8299d",
   "metadata": {},
   "outputs": [],
   "source": [
    "data.head()"
   ]
  },
  {
   "cell_type": "code",
   "execution_count": null,
   "id": "6641216e-caac-4806-90ca-9400371bb0e5",
   "metadata": {},
   "outputs": [],
   "source": [
    "columns = ['Dry Matter, %','Diet number \\n(from the file with the diets n_ for nursery and f_ for fattening)','bsf stage (nursery or fattening)','Cycle, days','Initial Moisture', 'Protein, %', 'Carbs, without NDF \\n%', 'Fat, \\n%','NDF, %', 'Ash, %','company_name',' total larval  biomass, gr','Average larval  mass, mg','Fat, %','Recalculated protein, %',\n",
    "      \"experiment purpose\",'Survival%','Larvae density','start date (larvae t = 0 )','batch number '] #,'% of waste reduction (FW/FW)', '% of waste reduction (DM/DM)']\n",
    "    #  'Feed conversion efficiency (DM/FW) without nursery',   \n",
    "    #'Feed conversion efficiency (DM/FW) with nursery',\n",
    "       #'Feed conversion efficiency (FW/FW) without nursery',\n",
    "       #'Feed conversion efficiency (FW/FW) with nursery']"
   ]
  },
  {
   "cell_type": "code",
   "execution_count": null,
   "id": "24b35c2b-32cf-4ec2-8b1b-2df9856d4a85",
   "metadata": {},
   "outputs": [],
   "source": [
    "data = data[data[\"experiment purpose\"]!='larvae production']"
   ]
  },
  {
   "cell_type": "code",
   "execution_count": null,
   "id": "1a966fbf-3ef0-42a4-aa36-9e72bc69aad3",
   "metadata": {},
   "outputs": [],
   "source": [
    "value_to_find ='לא סנין'\n",
    "  #'לא סנין' # 'N.A' #'#VALUE!'#  'לא למלא, מחושב' \n",
    "\n",
    "for column in data.columns:\n",
    "    if value_to_find in data[column].values:\n",
    "        print(f\"Value '{value_to_find}' found in column '{column}'\")"
   ]
  },
  {
   "cell_type": "code",
   "execution_count": null,
   "id": "15a996d2-c1ab-4701-bfb8-ed509336d09c",
   "metadata": {},
   "outputs": [],
   "source": [
    "rows_to_remove = data[data.isin([value_to_find]).any(axis=1)]\n",
    "\n",
    "data = data.drop(rows_to_remove.index)"
   ]
  },
  {
   "cell_type": "code",
   "execution_count": null,
   "id": "a50057f2-d934-455e-8aa5-76fd26560f72",
   "metadata": {},
   "outputs": [],
   "source": [
    "value_to_find ='לא למלא, מחושב'\n",
    "  #'לא סנין' # 'N.A' #'#VALUE!'#  'לא למלא, מחושב' \n",
    "\n",
    "for column in data.columns:\n",
    "    if value_to_find in data[column].values:\n",
    "        print(f\"Value '{value_to_find}' found in column '{column}'\")"
   ]
  },
  {
   "cell_type": "code",
   "execution_count": null,
   "id": "5b82f8fb-0084-4dd8-a4b5-432fa0bc331b",
   "metadata": {},
   "outputs": [],
   "source": [
    "rows_to_remove = data[data.isin([value_to_find]).any(axis=1)]\n",
    "\n",
    "data = data.drop(rows_to_remove.index)"
   ]
  },
  {
   "cell_type": "code",
   "execution_count": null,
   "id": "c9d67759-f71d-4b26-a9bf-ecd2ec9721f1",
   "metadata": {},
   "outputs": [],
   "source": [
    "value_to_find = 'שק מתאריך 04/04' \n",
    "for column in data.columns:\n",
    "    if value_to_find in data[column].values:\n",
    "        print(f\"Value '{value_to_find}' found in column '{column}'\")"
   ]
  },
  {
   "cell_type": "code",
   "execution_count": null,
   "id": "5694f427-7188-4e5d-9592-dad76d9f8df5",
   "metadata": {},
   "outputs": [],
   "source": [
    "rows_to_remove = data[data.isin([value_to_find]).any(axis=1)]\n",
    "\n",
    "data = data.drop(rows_to_remove.index)"
   ]
  },
  {
   "cell_type": "code",
   "execution_count": null,
   "id": "f906e388-bc24-4ab5-8038-7c72f1f6eaca",
   "metadata": {},
   "outputs": [],
   "source": [
    "data[[ 'Protein, %', 'Carbs, without NDF \\n%', 'Fat, \\n%','NDF, %', 'Ash, %',' total larval  biomass, gr','Average larval  mass, mg']] = data[['Protein, %', 'Carbs, without NDF \\n%', 'Fat, \\n%','NDF, %', 'Ash, %',' total larval  biomass, gr','Average larval  mass, mg']].replace(u'\\xa0', u'0').astype(\"float\")"
   ]
  },
  {
   "cell_type": "code",
   "execution_count": null,
   "id": "3678ba23-899f-4a09-a3a5-de3578d358a4",
   "metadata": {},
   "outputs": [],
   "source": [
    "data['Larvae density'].unique()"
   ]
  },
  {
   "cell_type": "code",
   "execution_count": null,
   "id": "6b6b1dcd-a793-4ca4-ac00-e8248695e5b5",
   "metadata": {},
   "outputs": [],
   "source": [
    "data = data.rename(columns={'Diet number \\n(from the file with the diets n_ for nursery and f_ for fattening)': 'Diet_num'})"
   ]
  },
  {
   "cell_type": "markdown",
   "id": "ed5705a8-81fa-405f-bb5e-131ed98e331e",
   "metadata": {},
   "source": [
    "### Dates processing"
   ]
  },
  {
   "cell_type": "code",
   "execution_count": null,
   "id": "5b1cd7ce-fceb-4539-add6-c49c1354e5e2",
   "metadata": {},
   "outputs": [],
   "source": [
    "data['date'] = pd.to_datetime(data['start date (larvae t = 0 )'] , dayfirst=True)\n",
    "\n",
    "data['month'] = data['date'].dt.month\n",
    "data['day_of_week'] = data['date'].dt.weekday  # Monday=0, Sunday=6"
   ]
  },
  {
   "cell_type": "markdown",
   "id": "f95a6736-328d-431e-ab05-c2867e43c35c",
   "metadata": {},
   "source": [
    "### Fattening"
   ]
  },
  {
   "cell_type": "code",
   "execution_count": null,
   "id": "b4157236-29c6-476b-befe-2a65b0b35ce1",
   "metadata": {},
   "outputs": [],
   "source": [
    "data_fattening =data[data['bsf stage (nursery or fattening)']==\"fattening\"]"
   ]
  },
  {
   "cell_type": "code",
   "execution_count": null,
   "id": "7f06cb6b-c97d-4eab-b248-2cd9d43caeab",
   "metadata": {},
   "outputs": [],
   "source": [
    "#drop all rows with nan values for target variables\n",
    "data_fattening = data_fattening.dropna(subset = [' total larval  biomass, gr','Average larval  mass, mg','Fat, %', 'Recalculated protein, %'])"
   ]
  },
  {
   "cell_type": "markdown",
   "id": "ddfbf19b-df79-4781-9b98-7086b30086e3",
   "metadata": {},
   "source": [
    "### Nursery"
   ]
  },
  {
   "cell_type": "code",
   "execution_count": null,
   "id": "3a06386e-0a77-4ac2-915a-16b5a24d62ac",
   "metadata": {},
   "outputs": [],
   "source": [
    "data_nursery =data[data['bsf stage (nursery or fattening)']==\"nursery\"]"
   ]
  },
  {
   "cell_type": "code",
   "execution_count": null,
   "id": "f8d20ec7-dfa9-4efe-89d4-c494edc0d794",
   "metadata": {},
   "outputs": [],
   "source": [
    "#drop all rows with nan values for target variables\n",
    "data_nursery = data_nursery.dropna(subset = [' total larval  biomass, gr','Average larval  mass, mg'])"
   ]
  },
  {
   "cell_type": "markdown",
   "id": "d19d2dd2-c4a0-4a13-a378-e4c6d9c32faf",
   "metadata": {},
   "source": [
    "### Isolate diet 500"
   ]
  },
  {
   "cell_type": "code",
   "execution_count": null,
   "id": "29098110-6fb0-42f0-aa34-8bd9e75d8c34",
   "metadata": {},
   "outputs": [],
   "source": [
    "data_fattening_without_500 = data_fattening[data_fattening[\"Diet_num\"]!='500']"
   ]
  },
  {
   "cell_type": "code",
   "execution_count": null,
   "id": "becb24a6-d5cd-4dc7-9358-5702c9bccb4e",
   "metadata": {},
   "outputs": [],
   "source": [
    "data_fattening_without_500 = data_fattening[data_fattening[\"Diet_num\"]!= 500]"
   ]
  },
  {
   "cell_type": "code",
   "execution_count": null,
   "id": "1d2d37ec-783b-4800-9a1c-06a32c344a75",
   "metadata": {},
   "outputs": [],
   "source": [
    "data_fattening_without_500 = data_fattening_without_500[data_fattening[\"Diet_num\"]!='f_500']"
   ]
  },
  {
   "cell_type": "code",
   "execution_count": null,
   "id": "7c290edd-d8bd-4688-803e-1bf132d474b1",
   "metadata": {},
   "outputs": [],
   "source": [
    "value_to_find = '#VALUE!' \n",
    "  #'לא סנין' # 'N.A' #'#VALUE!'#\n",
    "\n",
    "for column in data_fattening_without_500.columns:\n",
    "    if value_to_find in data_fattening_without_500[column].values:\n",
    "        print(f\"Value '{value_to_find}' found in column '{column}'\")"
   ]
  },
  {
   "cell_type": "code",
   "execution_count": null,
   "id": "c34e77da-fbba-47a2-9d24-e01f6db5a185",
   "metadata": {},
   "outputs": [],
   "source": [
    "rows_to_remove = data_fattening_without_500[data_fattening_without_500.isin([value_to_find]).any(axis=1)]\n",
    "\n",
    "# Remove rows containing the value\n",
    "data_fattening_without_500 = data_fattening_without_500.drop(rows_to_remove.index)"
   ]
  },
  {
   "cell_type": "code",
   "execution_count": null,
   "id": "cb46c09b-104d-4b3b-a0ba-2532ee0ebecc",
   "metadata": {},
   "outputs": [],
   "source": [
    "data_fattening_without_500[[' total larval  biomass, gr','Average larval  mass, mg','Fat, %','Recalculated protein, %']]=data_fattening_without_500[[' total larval  biomass, gr','Average larval  mass, mg','Fat, %','Recalculated protein, %']].replace(u'\\xa0', u'0').astype('float')"
   ]
  },
  {
   "cell_type": "code",
   "execution_count": null,
   "id": "6420af1d-3ac0-489f-a7c3-345c9d808b62",
   "metadata": {},
   "outputs": [],
   "source": [
    "data_fattening_500 = data_fattening[(data_fattening[\"Diet_num\"] == '500') | (data_fattening[\"Diet_num\"] == 'f_500')]"
   ]
  },
  {
   "cell_type": "code",
   "execution_count": null,
   "id": "ff5c64e5-8366-4f67-8a19-5630c39687a5",
   "metadata": {},
   "outputs": [],
   "source": [
    "data_nursery_500 = data_nursery[(data_nursery[\"Diet_num\"] == '500') | (data_nursery[\"Diet_num\"] == 'n_500')]"
   ]
  },
  {
   "cell_type": "code",
   "execution_count": null,
   "id": "07a2002e-ac6c-402d-8cdf-e86e6dcfbb24",
   "metadata": {},
   "outputs": [],
   "source": [
    "data_nursery_without_500 = data_nursery[data_nursery[\"Diet_num\"]!='n_500']"
   ]
  },
  {
   "cell_type": "code",
   "execution_count": null,
   "id": "8eccd979-bc0b-440f-8e16-40f871aca846",
   "metadata": {},
   "outputs": [],
   "source": [
    "data_nursery_without_500 = data_nursery[data_nursery[\"Diet_num\"]!='500']"
   ]
  },
  {
   "cell_type": "code",
   "execution_count": null,
   "id": "f8a8cceb-47d6-4a7f-ad7e-9aad0ab4379f",
   "metadata": {},
   "outputs": [],
   "source": [
    "data_nursery_without_500 = data_nursery[data_nursery[\"Diet_num\"]!=500]"
   ]
  },
  {
   "cell_type": "code",
   "execution_count": null,
   "id": "d8b4be2d-f96c-48ef-8b54-98a8239ab6e8",
   "metadata": {},
   "outputs": [],
   "source": [
    "data_nursery_without_500.columns"
   ]
  },
  {
   "cell_type": "code",
   "execution_count": null,
   "id": "539ace9f-2e46-4df6-8bc0-1ee37ab0108c",
   "metadata": {},
   "outputs": [],
   "source": [
    "data_nursery_without_500[[ ' total larval  biomass, gr',\n",
    "       'Average larval  mass, mg']] = data_nursery_without_500[[ ' total larval  biomass, gr',\n",
    "       'Average larval  mass, mg']].astype('float')"
   ]
  },
  {
   "cell_type": "code",
   "execution_count": null,
   "id": "6dfff4cf-bb77-45b8-8d46-a8a7ea91bef7",
   "metadata": {},
   "outputs": [],
   "source": [
    "sns.histplot(data_fattening_without_500[['Protein, %', 'Carbs, without NDF \\n%', 'Fat, \\n%','NDF, %', 'Ash, %']], kde=True)\n",
    "plt.show()"
   ]
  },
  {
   "cell_type": "code",
   "execution_count": null,
   "id": "7dc42022-581b-4576-b35f-8a857565f53f",
   "metadata": {},
   "outputs": [],
   "source": [
    "sns.histplot(data_nursery_without_500[['Protein, %', 'Carbs, without NDF \\n%', 'Fat, \\n%','NDF, %', 'Ash, %']], kde=True)\n",
    "plt.show()"
   ]
  },
  {
   "cell_type": "markdown",
   "id": "8d7b5b92-cde2-4450-8e04-953a2dbfe2ab",
   "metadata": {},
   "source": [
    "### Fattening statistics"
   ]
  },
  {
   "cell_type": "code",
   "execution_count": null,
   "id": "23dd8529-61ec-4fd7-a5e5-90caa8d08a2c",
   "metadata": {},
   "outputs": [],
   "source": [
    "data_fattening_without_500['Fat, %'] = data_fattening_without_500['Fat, %'].astype('float')"
   ]
  },
  {
   "cell_type": "code",
   "execution_count": null,
   "id": "c8018a63-aa1c-4812-be06-27030b1937db",
   "metadata": {},
   "outputs": [],
   "source": [
    "sns.histplot(data_fattening_without_500['Fat, %'])\n",
    "plt.show()"
   ]
  },
  {
   "cell_type": "code",
   "execution_count": null,
   "id": "4fceed5c-4fa1-4d97-8a4b-af25c1fdd317",
   "metadata": {},
   "outputs": [],
   "source": [
    "data_fattening_without_500['Recalculated protein, %'] = data_fattening_without_500['Recalculated protein, %'].astype('float')"
   ]
  },
  {
   "cell_type": "code",
   "execution_count": null,
   "id": "e6cc0e28-d738-4ea0-8798-9671605bdbe7",
   "metadata": {},
   "outputs": [],
   "source": [
    "sns.histplot(data_fattening_without_500['Recalculated protein, %'])\n",
    "plt.show()"
   ]
  },
  {
   "cell_type": "code",
   "execution_count": null,
   "id": "82fb215a-2c81-47c2-bcc8-c03c007bd95e",
   "metadata": {},
   "outputs": [],
   "source": [
    "data_fattening_without_500 = data_fattening_without_500[data_fattening_without_500['Recalculated protein, %']>0]"
   ]
  },
  {
   "cell_type": "code",
   "execution_count": null,
   "id": "4e4cd3fd-fd23-494a-8b50-722ac2c8df36",
   "metadata": {},
   "outputs": [],
   "source": [
    "sns.histplot(data_fattening_without_500[' total larval  biomass, gr'])\n",
    "plt.show()"
   ]
  },
  {
   "cell_type": "code",
   "execution_count": null,
   "id": "14624151-4a01-4c74-9f0d-734189ceed2a",
   "metadata": {},
   "outputs": [],
   "source": [
    "sns.histplot(data_fattening_without_500['Average larval  mass, mg'])\n",
    "plt.show()"
   ]
  },
  {
   "cell_type": "code",
   "execution_count": null,
   "id": "72197b56-c6e7-48e9-8c48-0dda3c070eca",
   "metadata": {},
   "outputs": [],
   "source": [
    "data_fattening_without_500 = data_fattening_without_500[data_fattening_without_500['Average larval  mass, mg']>0]"
   ]
  },
  {
   "cell_type": "code",
   "execution_count": null,
   "id": "8c02847e-7e50-4303-918d-c9e942c69027",
   "metadata": {},
   "outputs": [],
   "source": [
    "data_fattening_without_500 = data_fattening_without_500[data_fattening_without_500[' total larval  biomass, gr']>0]"
   ]
  },
  {
   "cell_type": "markdown",
   "id": "f05fd142-74fd-4f73-bd4a-7995612d6dc4",
   "metadata": {},
   "source": [
    "### Nursery without 500 statistics"
   ]
  },
  {
   "cell_type": "code",
   "execution_count": null,
   "id": "d8ab27ce-1cd3-419d-89c4-fdcf86a587ec",
   "metadata": {},
   "outputs": [],
   "source": [
    "data_nursery_without_500['Average larval  mass, mg'] = data_nursery_without_500['Average larval  mass, mg'].astype('float')"
   ]
  },
  {
   "cell_type": "code",
   "execution_count": null,
   "id": "0be9ee9d-aec8-49cb-93a5-3d2e2bb31db6",
   "metadata": {},
   "outputs": [],
   "source": [
    "sns.histplot(data_nursery_without_500['Average larval  mass, mg'])\n",
    "plt.show()"
   ]
  },
  {
   "cell_type": "code",
   "execution_count": null,
   "id": "9badb24e-3b9c-4ab7-bf95-cc0332dbc99c",
   "metadata": {},
   "outputs": [],
   "source": [
    "sns.histplot(data_nursery_without_500[' total larval  biomass, gr'])\n",
    "plt.show()"
   ]
  },
  {
   "cell_type": "code",
   "execution_count": null,
   "id": "d6aa1b94-26b7-4f7a-88b2-c3ee9e99ad21",
   "metadata": {},
   "outputs": [],
   "source": [
    "data_nursery_without_500['Cycle, days'] = data_nursery_without_500['Cycle, days'].astype('float')"
   ]
  },
  {
   "cell_type": "code",
   "execution_count": null,
   "id": "d74c0f15-673d-4de8-aeff-5bbb44753d04",
   "metadata": {},
   "outputs": [],
   "source": [
    "data_nursery_without_500['Cycle, days'].describe()"
   ]
  },
  {
   "cell_type": "code",
   "execution_count": null,
   "id": "1749738c-8565-4640-87a8-912e17280a69",
   "metadata": {},
   "outputs": [],
   "source": [
    "sns.histplot(data_nursery_without_500['Cycle, days'])\n",
    "plt.show()"
   ]
  },
  {
   "cell_type": "code",
   "execution_count": null,
   "id": "b5712312-fdd1-461f-a5a9-dbc963e1b057",
   "metadata": {},
   "outputs": [],
   "source": [
    "data_fattening_without_500[['Protein, %', 'Carbs, without NDF \\n%', 'Fat, \\n%','NDF, %', 'Ash, %']] = data_fattening_without_500[['Protein, %', 'Carbs, without NDF \\n%', 'Fat, \\n%','NDF, %', 'Ash, %']].astype('float')"
   ]
  },
  {
   "cell_type": "code",
   "execution_count": null,
   "id": "300a7707-c13a-4e4c-8e4a-f1615d746bc6",
   "metadata": {},
   "outputs": [],
   "source": [
    "data_fattening_without_500[[' total larval  biomass, gr','Average larval  mass, mg','Fat, %', 'Recalculated protein, %']] = data_fattening_without_500[[' total larval  biomass, gr','Average larval  mass, mg','Fat, %', 'Recalculated protein, %']].replace(u'\\xa0', u'0').astype('float')"
   ]
  },
  {
   "cell_type": "code",
   "execution_count": null,
   "id": "aa8409fe-2981-46dc-add9-b7d34d019eed",
   "metadata": {},
   "outputs": [],
   "source": [
    "data_fattening_without_500['Cycle, days'] = data_fattening_without_500['Cycle, days'].astype('float')"
   ]
  },
  {
   "cell_type": "code",
   "execution_count": null,
   "id": "591f45c2-bb54-4845-8891-701d47bb71c9",
   "metadata": {},
   "outputs": [],
   "source": [
    "sns.scatterplot(data=data_fattening_without_500, x='day_of_week', y=' total larval  biomass, gr')"
   ]
  },
  {
   "cell_type": "code",
   "execution_count": null,
   "id": "40262a68-9b7e-4745-a4e5-6f59436db25b",
   "metadata": {},
   "outputs": [],
   "source": [
    "sns.scatterplot(data=data_fattening_without_500, x='Fat, \\n%', y='Fat, %')"
   ]
  },
  {
   "cell_type": "code",
   "execution_count": null,
   "id": "ec30ea21-5e90-41a3-ad80-1fc2e825fc7e",
   "metadata": {},
   "outputs": [],
   "source": [
    "data_fattening_without_500_run = data_fattening_without_500.copy()"
   ]
  },
  {
   "cell_type": "code",
   "execution_count": null,
   "id": "2a4aa5e8-d9ea-4763-9490-109bd9a76b92",
   "metadata": {},
   "outputs": [],
   "source": [
    "\n",
    "# Calculate the correlation matrix\n",
    "corr_matrix = data_fattening_without_500[['Dry Matter, %','Larvae density','day_of_week','month','Cycle, days','Protein, %', 'Carbs, without NDF \\n%', 'Fat, \\n%','NDF, %', 'Ash, %',' total larval  biomass, gr','Average larval  mass, mg','Fat, %','Recalculated protein, %']].corr()\n",
    "\n",
    "mask = np.abs(corr_matrix) <= 0.5\n",
    "# Create a heatmap to visualize the correlation matrix\n",
    "sns.heatmap(corr_matrix, annot=True, cmap='coolwarm',mask=mask)\n",
    "plt.show()"
   ]
  },
  {
   "cell_type": "code",
   "execution_count": null,
   "id": "d501bdfd-a840-44e5-a4ff-1388f4b2ecc7",
   "metadata": {},
   "outputs": [],
   "source": [
    "# Calculate the correlation matrix\n",
    "corr_matrix = data_nursery_without_500[['Dry Matter, %','Larvae density','day_of_week','month','Protein, %', 'Carbs, without NDF \\n%', 'Fat, \\n%','NDF, %', 'Ash, %',' total larval  biomass, gr','Average larval  mass, mg']].corr()\n",
    "mask = np.abs(corr_matrix) <= 0.5\n",
    "# Create a heatmap to visualize the correlation matrix\n",
    "sns.heatmap(corr_matrix, annot=True, cmap='coolwarm',mask=mask)\n",
    "plt.show()"
   ]
  },
  {
   "cell_type": "code",
   "execution_count": null,
   "id": "03208650-34f9-44a3-a8ed-9ee5f51eef81",
   "metadata": {},
   "outputs": [],
   "source": []
  },
  {
   "cell_type": "code",
   "execution_count": null,
   "id": "780cc902-0ecd-4b26-b442-4bb8145be4dc",
   "metadata": {},
   "outputs": [],
   "source": [
    "sns.scatterplot(data=data_fattening_without_500, x='Cycle, days', y='Fat, %')\n",
    "\n",
    "# Find the x value for which y is maximum\n",
    "x_max = data_fattening_without_500['Cycle, days'][data_fattening_without_500['Fat, %'].idxmax()]\n",
    "\n",
    "# Add a vertical line at x_max\n",
    "plt.axvline(x=x_max, color='r', linestyle='--')\n",
    "\n",
    "# Show the plot\n",
    "plt.show()"
   ]
  },
  {
   "cell_type": "code",
   "execution_count": null,
   "id": "74f7b9fd-3512-45a9-a37c-fe5d1629b63c",
   "metadata": {},
   "outputs": [],
   "source": [
    "sns.scatterplot(data=data_fattening_without_500, x='Cycle, days', y='Recalculated protein, %')\n",
    "\n",
    "# Find the top 5 maximum y values and store them in a new DataFrame\n",
    "top_5_max_points_df = data_fattening_without_500.nlargest(10, 'Recalculated protein, %')\n",
    "\n",
    "# Sort the DataFrame by 'Cycle, days' to ensure the line is plotted correctly\n",
    "top_5_max_points_df = top_5_max_points_df.sort_values('Cycle, days')\n",
    "\n",
    "# Plot a line connecting the top 5 maximum points\n",
    "plt.plot(top_5_max_points_df['Cycle, days'], top_5_max_points_df['Recalculated protein, %'], color='r', linestyle='--')\n",
    "\n",
    "plt.show()"
   ]
  },
  {
   "cell_type": "code",
   "execution_count": null,
   "id": "18d2d7d7-95aa-4038-ab06-602fc67da8c7",
   "metadata": {},
   "outputs": [],
   "source": [
    "sns.scatterplot(data=data_fattening_without_500, x='Cycle, days', y='Recalculated protein, %')\n",
    "\n",
    "# Find the x value for which y is maximum\n",
    "x_max = data_fattening_without_500['Cycle, days'][data_fattening_without_500['Recalculated protein, %'].idxmax()]\n",
    "\n",
    "# Add a vertical line at x_max\n",
    "plt.axvline(x=x_max, color='r', linestyle='--')\n",
    "\n",
    "# Show the plot\n",
    "plt.show()"
   ]
  },
  {
   "cell_type": "code",
   "execution_count": null,
   "id": "cdceaa62-c408-4a9a-8400-719db7d3f97f",
   "metadata": {},
   "outputs": [],
   "source": [
    "sns.kdeplot(data=data_fattening_without_500['Fat, %'], bw_adjust=0.5)\n",
    "plt.show()"
   ]
  },
  {
   "cell_type": "code",
   "execution_count": null,
   "id": "692073a1-a57e-4020-9f27-6bbed8e2fbd1",
   "metadata": {},
   "outputs": [],
   "source": [
    "fig, ax1 = plt.subplots()\n",
    "\n",
    "# Scatterplot\n",
    "sns.scatterplot(data=data_fattening_without_500, x='Cycle, days', y='Recalculated protein, %', ax=ax1)\n",
    "\n",
    "# Find the x value for which y is maximum\n",
    "x_max = data_fattening_without_500['Cycle, days'][data_fattening_without_500['Recalculated protein, %'].idxmax()]\n",
    "\n",
    "# Add a vertical line at x_max\n",
    "ax1.axvline(x=x_max, color='r', linestyle='--')\n",
    "\n",
    "# Create a second y-axis for the KDE plot\n",
    "ax2 = ax1.twinx()\n",
    "\n",
    "# KDE plot with adjusted bandwidth\n",
    "sns.kdeplot(data=data_fattening_without_500['Cycle, days'], bw_adjust=0.4, color='g', ax=ax2)\n",
    "\n",
    "# Show the plot\n",
    "plt.show()"
   ]
  },
  {
   "cell_type": "code",
   "execution_count": null,
   "id": "2a4e9028-0a18-489b-80e6-3935223f2a6a",
   "metadata": {},
   "outputs": [],
   "source": [
    "sns.jointplot(data=data_fattening_without_500, x='Cycle, days', y='Fat, %', kind='kde')"
   ]
  },
  {
   "cell_type": "code",
   "execution_count": null,
   "id": "7277633c-2f32-4e74-9782-3e4006ae3159",
   "metadata": {},
   "outputs": [],
   "source": [
    "sns.jointplot(data=data_fattening_without_500, x='Cycle, days', y='Recalculated protein, %', kind='kde')"
   ]
  },
  {
   "cell_type": "code",
   "execution_count": null,
   "id": "cf70e487-cf9d-414d-a549-a64f4d2da244",
   "metadata": {},
   "outputs": [],
   "source": [
    "sns.jointplot(data=data_fattening_without_500, x='day_of_week', y='Recalculated protein, %', kind='kde')"
   ]
  },
  {
   "cell_type": "code",
   "execution_count": null,
   "id": "a055246e-f2cf-412b-8c53-ac88a82ea323",
   "metadata": {},
   "outputs": [],
   "source": [
    "data_fattening_without_500_run = data_fattening_without_500[['Diet_num','Larvae density',' total larval  biomass, gr','Average larval  mass, mg','Fat, %', 'Recalculated protein, %', 'Cycle, days','NDF, %', 'Ash, %', 'Protein, %', 'Carbs, without NDF \\n%', 'Fat, \\n%','Dry Matter, %','month','day_of_week']].dropna()"
   ]
  },
  {
   "cell_type": "code",
   "execution_count": null,
   "id": "97a53cde-85d7-4e87-9884-4d61e1c6c5da",
   "metadata": {},
   "outputs": [],
   "source": [
    "grouped_df = data_fattening_without_500_run.groupby('Diet_num')['Fat, %'].describe()\n",
    "\n",
    "grouped_df[grouped_df['std'] > 2]"
   ]
  },
  {
   "cell_type": "code",
   "execution_count": null,
   "id": "0e7e5c60-37b9-49bd-94ed-c153f0ffbb5b",
   "metadata": {},
   "outputs": [],
   "source": [
    "data_nursery_without_500.groupby('Diet_num')['Average larval  mass, mg'].describe()"
   ]
  },
  {
   "cell_type": "markdown",
   "id": "b7ee3375-3401-47d8-ae29-02a9f9ddf69d",
   "metadata": {},
   "source": [
    "### Running model on fattening data"
   ]
  },
  {
   "cell_type": "code",
   "execution_count": null,
   "id": "7396a8ea-ee2f-4d33-8a98-c39648581b60",
   "metadata": {},
   "outputs": [],
   "source": [
    "company_data = data_fattening_without_500_run"
   ]
  },
  {
   "cell_type": "code",
   "execution_count": null,
   "id": "9037392a-4f6f-4c18-8c82-8f0c0fd5d607",
   "metadata": {},
   "outputs": [],
   "source": [
    "#10 cross validation (k=10)\n",
    "group_kfold = GroupKFold(n_splits=10)\n",
    "\n",
    "X = company_data[['Diet_num','Ash, %', 'NDF, %','Carbs, without NDF \\n%','Cycle, days','Protein, %','Fat, \\n%','month','Larvae density','day_of_week']] #,'batch number ','Larvae density']]\n",
    "\n",
    "y = company_data[[' total larval  biomass, gr','Average larval  mass, mg','Fat, %', 'Recalculated protein, %']]\n"
   ]
  },
  {
   "cell_type": "code",
   "execution_count": null,
   "id": "24d3a21b-2dc9-4f11-81a6-fcb839d8d127",
   "metadata": {},
   "outputs": [],
   "source": [
    "groups = company_data[\"Diet_num\"]"
   ]
  },
  {
   "cell_type": "code",
   "execution_count": null,
   "id": "0410dc3e-1fae-4d6f-b2f8-d8f4526ed363",
   "metadata": {},
   "outputs": [],
   "source": [
    "def run_fattening_model(xg_reg, groups, X,y):\n",
    "    rmse_scores = []\n",
    "    mae_scores = []\n",
    "    me_scores = []\n",
    "\n",
    "    one_hot_features = ['month','Larvae density','day_of_week']\n",
    "    scale_features = [col for col in X.columns if col not in one_hot_features and col != 'Diet_num']\n",
    "\n",
    "    preprocessor_X = ColumnTransformer(\n",
    "        transformers=[\n",
    "            ('num', MinMaxScaler(), scale_features),\n",
    "            ('cat', 'passthrough', one_hot_features)\n",
    "        ])\n",
    "\n",
    "    pipeline_X = Pipeline(steps=[('preprocessor', preprocessor_X)])\n",
    "\n",
    "    scaler_y = MinMaxScaler()\n",
    "\n",
    "    for train_idx, test_idx in group_kfold.split(X, y, groups):\n",
    "        X_train, X_test = X.iloc[train_idx], X.iloc[test_idx]\n",
    "        y_train, y_test = y.iloc[train_idx], y.iloc[test_idx]\n",
    "\n",
    "\n",
    "        print(\"Train diet numbers:\", X_train['Diet_num'].unique())\n",
    "        print(\"Test diet numbers:\", X_test['Diet_num'].unique())\n",
    "\n",
    "        X_train = X_train.drop('Diet_num', axis=1)\n",
    "        X_test = X_test.drop('Diet_num', axis=1)\n",
    "\n",
    "\n",
    "        X_train_transformed = pipeline_X.fit_transform(X_train)\n",
    "        X_test_transformed = pipeline_X.transform(X_test)\n",
    "\n",
    "        y_train_scaled = scaler_y.fit_transform(y_train)\n",
    "        y_test_scaled = scaler_y.transform(y_test)\n",
    "\n",
    "        model = MultiOutputRegressor(xg_reg)\n",
    "        model.fit(X_train_transformed, y_train_scaled)\n",
    "\n",
    "        y_pred_scaled = model.predict(X_test_transformed)\n",
    "        y_pred = scaler_y.inverse_transform(y_pred_scaled)\n",
    "\n",
    "        rmse_local_score = np.sqrt(mean_squared_error(y_test, y_pred, multioutput='raw_values'))\n",
    "        mae_local_score = mean_absolute_error(y_test, y_pred, multioutput='raw_values')\n",
    "        mse_local_score = mean_squared_error(y_test, y_pred, multioutput='raw_values')\n",
    "        me_score =  np.mean(y_test - y_pred)\n",
    "\n",
    "        for i, target in enumerate(y_test.columns):\n",
    "            print(f\"{target} RMSE: {rmse_local_score[i]:.2f}\")\n",
    "\n",
    "        rmse_scores.append(rmse_local_score)\n",
    "        mae_scores.append(mae_local_score)\n",
    "        me_scores.append(me_score)\n",
    "\n",
    "        print(\"-------------------------------\")    \n",
    "\n",
    "\n",
    "    avg_rmse_scores = np.mean(rmse_scores, axis=0)\n",
    "    avg_mae_scores = np.mean(mae_scores, axis=0)\n",
    "    avg_me_scores= np.mean(me_scores, axis=0)\n",
    "    std_me_scores = np.std(me_scores, axis=0)\n",
    "\n",
    "\n",
    "    for i, target in enumerate(y_test.columns):\n",
    "        print(f\"Average {target} RMSE: {avg_rmse_scores[i]:.2f}\")\n",
    "        print(f\"Average {target} MAE: {avg_mae_scores[i]:.2f}\")\n",
    "        print(f\"Average {target} ME: {avg_me_scores[i]:.2f}\")"
   ]
  },
  {
   "cell_type": "markdown",
   "id": "fe8ec80c-7b73-487f-8743-06ddd7b8df04",
   "metadata": {},
   "source": [
    "### Linear Regression for fattening"
   ]
  },
  {
   "cell_type": "code",
   "execution_count": null,
   "id": "5f871f5f-0fa4-4b2c-98b8-07abd70a63d5",
   "metadata": {},
   "outputs": [],
   "source": [
    "xg_reg = LinearRegression() "
   ]
  },
  {
   "cell_type": "code",
   "execution_count": null,
   "id": "c221e126-46ef-438e-9d2e-75f4a7c8c5db",
   "metadata": {},
   "outputs": [],
   "source": [
    "run_fattening_model(xg_reg, groups, X,y)"
   ]
  },
  {
   "cell_type": "markdown",
   "id": "d39c3aae-77fa-45e2-993b-68a1008d61d7",
   "metadata": {},
   "source": [
    "### Random Forest"
   ]
  },
  {
   "cell_type": "code",
   "execution_count": null,
   "id": "0d318d22-57a3-4575-b6d7-1d4d18619eb9",
   "metadata": {},
   "outputs": [],
   "source": [
    "xg_reg = RandomForestRegressor(n_estimators=100, random_state=42) "
   ]
  },
  {
   "cell_type": "code",
   "execution_count": null,
   "id": "5160ddca-3bbb-4910-a78b-67f31ba62848",
   "metadata": {},
   "outputs": [],
   "source": [
    "run_fattening_model(xg_reg, groups, X,y)"
   ]
  },
  {
   "cell_type": "markdown",
   "id": "92fec214-3902-4e8c-b953-a85583555776",
   "metadata": {},
   "source": [
    "### XGBoost"
   ]
  },
  {
   "cell_type": "code",
   "execution_count": null,
   "id": "1958c891-52c9-4632-85ba-101e4a264da5",
   "metadata": {},
   "outputs": [],
   "source": [
    "xg_reg = xgb.XGBRegressor(objective='reg:squarederror', seed=42)"
   ]
  },
  {
   "cell_type": "code",
   "execution_count": null,
   "id": "795f3ca6-e57c-41b0-b817-ad9e830c1b36",
   "metadata": {},
   "outputs": [],
   "source": [
    "run_fattening_model(xg_reg, groups, X,y)"
   ]
  },
  {
   "cell_type": "markdown",
   "id": "4f34bd83-c1bc-40ff-b35e-68a2f36780d1",
   "metadata": {},
   "source": [
    "### Running model on nursery data"
   ]
  },
  {
   "cell_type": "code",
   "execution_count": null,
   "id": "c9641251-7962-4c37-a18d-e2ec9507c2ec",
   "metadata": {},
   "outputs": [],
   "source": [
    "data_nursery_without_500[\"Diet_num\"].unique()"
   ]
  },
  {
   "cell_type": "code",
   "execution_count": null,
   "id": "0187b652-2dff-43f4-b959-ce7b3cf7b69b",
   "metadata": {},
   "outputs": [],
   "source": [
    "company_data = data_nursery_without_500.copy()"
   ]
  },
  {
   "cell_type": "code",
   "execution_count": null,
   "id": "21b8da47-d710-4b04-9235-ebbc31ead72b",
   "metadata": {},
   "outputs": [],
   "source": [
    "company_data[['Diet_num','NDF, %', 'Ash, %', 'Carbs, without NDF \\n%','Protein, %','Fat, \\n%','day_of_week','month','Larvae density']].dropna()"
   ]
  },
  {
   "cell_type": "code",
   "execution_count": null,
   "id": "b8c7a0d0-65a5-4eb4-a1fb-177285f876b6",
   "metadata": {},
   "outputs": [],
   "source": [
    "group_kfold = GroupKFold(n_splits=10)\n",
    "\n",
    "#Linear regression doesn't handle nan/missing values\n",
    "company_data = company_data[['Diet_num','NDF, %', 'Ash, %', 'Carbs, without NDF \\n%','Protein, %','Fat, \\n%','day_of_week','month','Larvae density',' total larval  biomass, gr','Average larval  mass, mg']].dropna()\n",
    "\n",
    "X = company_data[['Diet_num','NDF, %', 'Ash, %', 'Carbs, without NDF \\n%','Protein, %','Fat, \\n%','day_of_week','month','Larvae density']] #,'batch number ']]#,'Cycle, days']]\n",
    "y = company_data[[' total larval  biomass, gr','Average larval  mass, mg']]\n",
    "\n",
    "groups = company_data[\"Diet_num\"]"
   ]
  },
  {
   "cell_type": "code",
   "execution_count": null,
   "id": "6130d07d-34f0-4310-9a39-cd2d4e5ee04c",
   "metadata": {},
   "outputs": [],
   "source": [
    "def run_nursery_model(xg_reg, groups, X,Y):\n",
    "    rmse_scores = []\n",
    "    mae_scores = []\n",
    "    mse_scores = []\n",
    "    me_scores = []\n",
    "\n",
    "    one_hot_features = ['month','Larvae density','day_of_week']\n",
    "    scale_features = [col for col in X.columns if col not in one_hot_features and col != 'Diet_num']\n",
    "\n",
    "    preprocessor_X = ColumnTransformer(\n",
    "        transformers=[\n",
    "            ('num', MinMaxScaler(), scale_features),\n",
    "            ('cat', 'passthrough', one_hot_features)\n",
    "        ])\n",
    "\n",
    "    pipeline_X = Pipeline(steps=[('preprocessor', preprocessor_X)])\n",
    "\n",
    "    scaler_y = MinMaxScaler()\n",
    "\n",
    "    for train_idx, test_idx in group_kfold.split(X, y, groups):\n",
    "        X_train, X_test = X.iloc[train_idx], X.iloc[test_idx]\n",
    "        y_train, y_test = y.iloc[train_idx], y.iloc[test_idx]\n",
    "\n",
    "\n",
    "        print(\"Train diet numbers:\", X_train['Diet_num'].unique())\n",
    "        print(\"Test diet numbers:\", X_test['Diet_num'].unique())\n",
    "\n",
    "        X_train = X_train.drop('Diet_num', axis=1)\n",
    "        X_test = X_test.drop('Diet_num', axis=1)\n",
    "\n",
    "        X_train_transformed = pipeline_X.fit_transform(X_train)\n",
    "        X_test_transformed = pipeline_X.transform(X_test)\n",
    "\n",
    "        y_train_scaled = scaler_y.fit_transform(y_train)\n",
    "        y_test_scaled = scaler_y.transform(y_test)\n",
    "\n",
    "        model = MultiOutputRegressor(xg_reg)\n",
    "        model.fit(X_train_transformed, y_train_scaled)\n",
    "\n",
    "        y_pred_scaled = model.predict(X_test_transformed)\n",
    "        y_pred = scaler_y.inverse_transform(y_pred_scaled)\n",
    "\n",
    "        rmse_local_score = np.sqrt(mean_squared_error(y_test, y_pred, multioutput='raw_values'))\n",
    "        mae_local_score = mean_absolute_error(y_test, y_pred, multioutput='raw_values')\n",
    "        mse_local_score = mean_squared_error(y_test, y_pred, multioutput='raw_values')\n",
    "        me_local_score = np.mean(y_test - y_pred)\n",
    "\n",
    "        for i, target in enumerate(y_test.columns):\n",
    "            print(f\"{target} RMSE: {rmse_local_score[i]:.2f}\")\n",
    "\n",
    "\n",
    "        rmse_scores.append(rmse_local_score)\n",
    "        mse_scores.append(mse_local_score)\n",
    "        mae_scores.append(mae_local_score)\n",
    "        me_scores.append(me_local_score)\n",
    "\n",
    "        print(\"-------------------------------\")    \n",
    "\n",
    "    avg_rmse_scores = np.mean(rmse_scores, axis=0)\n",
    "    avg_mae_scores = np.mean(mae_scores, axis=0)\n",
    "    avg_me_scores = np.mean(me_scores, axis=0)\n",
    "    std_me_scores = np.std(me_scores, axis=0)\n",
    "\n",
    "\n",
    "    for i, target in enumerate(y_test.columns):\n",
    "        print(f\"Average {target} RMSE: {avg_rmse_scores[i]:.2f}\")\n",
    "        print(f\"Average {target} MAE: {avg_mae_scores[i]:.2f}\")\n",
    "        print(f\"Average {target} ME: {avg_me_scores[i]:.2f}\")"
   ]
  },
  {
   "cell_type": "markdown",
   "id": "5aefe6a9-8980-4cd1-945c-556de44c2b83",
   "metadata": {},
   "source": [
    "### Linear Regression"
   ]
  },
  {
   "cell_type": "code",
   "execution_count": null,
   "id": "4910f109-dd5a-4957-84db-a4390f84ea9f",
   "metadata": {},
   "outputs": [],
   "source": [
    "xg_reg =LinearRegression() "
   ]
  },
  {
   "cell_type": "code",
   "execution_count": null,
   "id": "0e3e2ef9-c86f-4bfa-b78f-047ff9ada807",
   "metadata": {},
   "outputs": [],
   "source": [
    "run_nursery_model(xg_reg, groups, X,y)"
   ]
  },
  {
   "cell_type": "markdown",
   "id": "ca552d67-f877-4137-a88b-027d1af8049b",
   "metadata": {},
   "source": [
    "### Random Forest for nursering"
   ]
  },
  {
   "cell_type": "code",
   "execution_count": null,
   "id": "506f08eb-eb4f-41ab-9c6d-acb5ea9ea716",
   "metadata": {},
   "outputs": [],
   "source": [
    "xg_reg = RandomForestRegressor(n_estimators=100, random_state=42)"
   ]
  },
  {
   "cell_type": "code",
   "execution_count": null,
   "id": "7d04c923-01de-4acc-a761-3f55340d9271",
   "metadata": {},
   "outputs": [],
   "source": [
    "run_nursery_model(xg_reg, groups, X,y)"
   ]
  },
  {
   "cell_type": "markdown",
   "id": "a759ad3a-2b34-43ee-a3fb-a93dce7cedb9",
   "metadata": {},
   "source": [
    "### XGBoost for nursering"
   ]
  },
  {
   "cell_type": "code",
   "execution_count": null,
   "id": "595c03a8-0f13-4798-a37f-92455384206c",
   "metadata": {},
   "outputs": [],
   "source": [
    "xg_reg = xgb.XGBRegressor(objective='reg:squarederror', seed=42, learning_rate=0.1, max_depth=5, min_child_weight=1, gamma=0.0, colsample_bytree=0.3, n_estimators=100) "
   ]
  },
  {
   "cell_type": "code",
   "execution_count": null,
   "id": "c86d89c8-522e-449d-b763-2a72913d84a1",
   "metadata": {},
   "outputs": [],
   "source": [
    "run_nursery_model(xg_reg, groups, X,y)"
   ]
  },
  {
   "cell_type": "code",
   "execution_count": null,
   "id": "e01ec34e-fbf7-4721-8958-9269366eda1e",
   "metadata": {},
   "outputs": [],
   "source": []
  }
 ],
 "metadata": {
  "kernelspec": {
   "display_name": "Python 3 (ipykernel)",
   "language": "python",
   "name": "python3"
  },
  "language_info": {
   "codemirror_mode": {
    "name": "ipython",
    "version": 3
   },
   "file_extension": ".py",
   "mimetype": "text/x-python",
   "name": "python",
   "nbconvert_exporter": "python",
   "pygments_lexer": "ipython3",
   "version": "3.10.12"
  }
 },
 "nbformat": 4,
 "nbformat_minor": 5
}
